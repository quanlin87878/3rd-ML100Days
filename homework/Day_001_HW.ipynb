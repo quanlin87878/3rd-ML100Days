{
 "cells": [
  {
   "cell_type": "code",
   "execution_count": null,
   "metadata": {},
   "outputs": [],
   "source": [
    "# [作業1]\n",
    "# -*- coding: utf-8 -*-\n",
    "\"\"\"\n",
    "Spyder Editor\n",
    "\n",
    "This is a temporary script file.\n",
    "\"\"\"\n",
    "\n",
    "import numpy as np\n",
    "import matplotlib.pyplot as plt\n",
    "\n",
    "w = 3\n",
    "b = 0.5\n",
    "\n",
    "x_lin = np.linspace(0,100,101)\n",
    "y = (x_lin + np.random.randn(101)*5)*w+b\n",
    "\n",
    "plt.plot(x_lin,y,'b.',label = 'data points')\n",
    "plt.title(\"Assume we habe data points\")\n",
    "plt.legend(loc = 2)\n",
    "plt.show()\n",
    "\n",
    "y_hat = x_lin*w+b\n",
    "plt.plot(x_lin,y,'b.',label = 'data points')\n",
    "plt.plot(x_lin,y_hat,'r-',label = 'ptredicition')\n",
    "plt.title(\"Assume we have data point (And the prediction)\")\n",
    "plt.legend(loc = 2)\n",
    "plt.show()\n",
    "\n",
    "def Mean_Square_Error(y,yp):\n",
    "    mse = sum((y-yp)**2)/len(y)\n",
    "    return mse\n",
    "MSE =Mean_Square_Error(y,y_hat)\n",
    "print(\"The Mean_Square_Error is %3f\" %(MSE))"
   ]
  },
  {
   "cell_type": "markdown",
   "metadata": {},
   "source": [
    "# [作業2]\n",
    "我選擇一則有關比特幣與區塊練的資料數據，比特幣是一種公開的貨幣，許許多多的大人物與暗網等私密交易皆以比特幣賃進行交易。\n",
    "而這則有一重點是在關注比特幣的發送、有多少地址接收比特幣。\n",
    "並利用Google工程師與GitHub上公開的比特幣錢包查詢的程式中，每10分鐘蒐集一次資料並通過加入其他可用數據源(雙浮點數)歷史價格進行比較。\n",
    "這可以了解比特幣的趨勢走動是否合理。"
   ]
  },
  {
   "cell_type": "markdown",
   "metadata": {},
   "source": [
    "# [作業3]\n",
    "\n",
    "要解決的問題，在不考慮司機的服務上。提升載客率與價格間要如何達到一個平衡。\n",
    "資料必須仰賴司機與可開發一個APP來進行自動搜集乘客是否已經上車以及乘客對於此趟搭乘是否感到滿意。而要面對的必須小心一部分的乘客會提供錯誤的資料。\n",
    "蒐集過來的資料形態一訂有百百種，如乘客回饋(字串)、價格(INT)等等...\n",
    "而可藉由第一項作業找出平均數的方式，找到一個最適合的線性，那代表的最多人覺得可以價格。\n",
    "而上述都是乘客端。而司機也必須依照上方方式，將他們覺得依照此方案，在實際上會不會覺得賺的錢太少，消耗過大等問題把這些都記錄中。\n",
    "試著找出一個最適合的曲線、焦點。達到提升業績的方式。"
   ]
  }
 ],
 "metadata": {
  "kernelspec": {
   "display_name": "Python 3",
   "language": "python",
   "name": "python3"
  },
  "language_info": {
   "codemirror_mode": {
    "name": "ipython",
    "version": 3
   },
   "file_extension": ".py",
   "mimetype": "text/x-python",
   "name": "python",
   "nbconvert_exporter": "python",
   "pygments_lexer": "ipython3",
   "version": "3.7.3"
  }
 },
 "nbformat": 4,
 "nbformat_minor": 2
}
