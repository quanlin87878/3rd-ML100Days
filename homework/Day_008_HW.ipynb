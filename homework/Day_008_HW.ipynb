{
 "cells": [
  {
   "cell_type": "code",
   "execution_count": null,
   "metadata": {},
   "outputs": [],
   "source": [
    "# -*- coding: utf-8 -*-\n",
    "\"\"\"\n",
    "Created on Fri Sep  6 16:08:16 2019\n",
    "\n",
    "@author: kurage\n",
    "\"\"\"\n",
    "\n",
    "import os\n",
    "import numpy as np\n",
    "import pandas as pd\n",
    "import matplotlib.pyplot as plt\n",
    "\n",
    "#load data\n",
    "dir_data = 'C:/Users/kurage/Desktop/3rd-AI/example/d8/Part01'\n",
    "f_app_train = os.path.join(dir_data,'application_train.csv')\n",
    "app_train = pd.read_csv(f_app_train)\n",
    "\n",
    "#choose one data\n",
    "train_y = app_train['AMT_INCOME_TOTAL']\n",
    "#print(train_y)\n",
    "\n",
    "#count 平均數 標準差\n",
    "train_y_mean = train_y.mean()#平均數\n",
    "print('平均數為:',train_y_mean,'\\n')\n",
    "train_y_median = train_y.median()#中位數\n",
    "print('中位數為:',train_y_median,'\\n')\n",
    "train_y_describe = train_y.describe()#描述統計\n",
    "print(train_y_describe)\n",
    "\n",
    "#draw Histograms\n",
    "x = np.array(train_y,float)\n",
    "num_bins = 10\n",
    "plt.hist(x,num_bins,edgecolor='k')\n",
    "plt.xlabel(\"index\")\n",
    "plt.ylabel(\"numbers\")\n",
    "plt.show()\n",
    "#因資料有問題 所以直方圖只有一條\n"
   ]
  }
 ],
 "metadata": {
  "kernelspec": {
   "display_name": "Python 3",
   "language": "python",
   "name": "python3"
  },
  "language_info": {
   "codemirror_mode": {
    "name": "ipython",
    "version": 3
   },
   "file_extension": ".py",
   "mimetype": "text/x-python",
   "name": "python",
   "nbconvert_exporter": "python",
   "pygments_lexer": "ipython3",
   "version": "3.7.3"
  }
 },
 "nbformat": 4,
 "nbformat_minor": 2
}
