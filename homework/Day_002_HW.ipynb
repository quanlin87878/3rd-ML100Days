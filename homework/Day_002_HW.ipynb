{
 "cells": [
  {
   "cell_type": "markdown",
   "metadata": {},
   "source": [
    "# 作業\n",
    "我本身是生物產業機電系前身就是農機系，而現在已經在讀研究所了，看了這麼7年的台灣農業現況，其實不管是AI、機器學習、深度學習，其實非常適合做在農業這塊。\n",
    "那以這次的主題，機器學習來說，非常適合的用於農作物的挑選，尤其是果實類，如蘋果、橘子、桃子等等作物。藉由影像處理與機器學習可將表面有蟲蛀或是碰撞等等因素而產生的不良品進行挑除與分級等作業。而目前這塊在業界卻是非常少人使用的，若研發出來，對於面對未來的少子化和農業缺工是非常的有幫助的。這也是為甚麼會參加本活動的原因。 "
   ]
  }
 ],
 "metadata": {
  "kernelspec": {
   "display_name": "Python 3",
   "language": "python",
   "name": "python3"
  },
  "language_info": {
   "codemirror_mode": {
    "name": "ipython",
    "version": 3
   },
   "file_extension": ".py",
   "mimetype": "text/x-python",
   "name": "python",
   "nbconvert_exporter": "python",
   "pygments_lexer": "ipython3",
   "version": "3.7.3"
  }
 },
 "nbformat": 4,
 "nbformat_minor": 2
}
