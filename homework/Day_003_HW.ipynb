{
 "cells": [
  {
   "cell_type": "markdown",
   "metadata": {},
   "source": [
    "# 作業\n",
    "1.專案的目標？ (要解決什麼問題）\n",
    "主要開發一款能構自動打牌(鬥地主)的AI\n",
    "\n",
    "2.使用的技術是？ (只需知道名稱即可，例如：使用 CNN 卷積神經網路做影像分類)\n",
    "使用多種模型融合的技術。其中包含規則模型，屬於通過設計師的人為思考邏輯來打牌，其優點為可使用人類經驗，較為簡易設計，缺點為靈活性低；另一模型為蒙地卡羅樹搜索模型，類似有名的AlphaGo的思考方式；最後一項為CFR模型，用於對於其他玩家為暗牌時，藉著他們的出牌推敲出手中有神麼樣的牌行，藉以增加獲勝率。\n",
    "\n",
    "3.資料來源？\n",
    "本篇資料來源來自，雷鋒網。牺牲睡眠、耽误论文，三周开发出「斗地主」AI，他们拿下了今年 DeeCamp 最佳团队奖。sakura。2019-08-22 。https://www.leiphone.com/news/201908/fxbKOrgvOni8WVAy.html"
   ]
  }
 ],
 "metadata": {
  "kernelspec": {
   "display_name": "Python 3",
   "language": "python",
   "name": "python3"
  },
  "language_info": {
   "codemirror_mode": {
    "name": "ipython",
    "version": 3
   },
   "file_extension": ".py",
   "mimetype": "text/x-python",
   "name": "python",
   "nbconvert_exporter": "python",
   "pygments_lexer": "ipython3",
   "version": "3.7.3"
  }
 },
 "nbformat": 4,
 "nbformat_minor": 2
}
