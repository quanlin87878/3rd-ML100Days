{
 "cells": [
  {
   "cell_type": "code",
   "execution_count": null,
   "metadata": {},
   "outputs": [],
   "source": [
    "# 載入套件\n",
    "import os\n",
    "import numpy as np\n",
    "import pandas as pd\n",
    "import matplotlib.pyplot as plt\n",
    "\n",
    "# 初始設定 Ages 的資料\n",
    "ages = pd.DataFrame({\"age\": [18,22,25,27,7,21,23,37,30,61,45,41,9,18,80,100]})\n",
    "\n",
    "# 新增欄位 \"equal_width_age\", 對年齡做等寬劃分\n",
    "ages[\"equal_width_age\"] = pd.cut(ages[\"age\"], 4)\n",
    "\n",
    "# 觀察等寬劃分下, 每個種組距各出現幾次\n",
    "a1 = ages[\"equal_width_age\"].value_counts() # 每個 bin 的值的範圍大小都是一樣的\n",
    "print(a1)\n",
    "\n",
    "# 新增欄位 \"equal_freq_age\", 對年齡做等頻劃分\n",
    "ages[\"equal_freq_age\"] = pd.qcut(ages[\"age\"], 4)\n",
    "\n",
    "# 觀察等頻劃分下, 每個種組距各出現幾次\n",
    "a = ages[\"equal_freq_age\"].value_counts() # 每個 bin 的資料筆數是一樣的\n",
    "print(a)\n",
    "\n",
    "#HW\n",
    "#新增一個欄位 customized_age_grp，把 age 分為 (0, 10], (10, 20], (20, 30], (30, 50], (50, 100] 這五組\n",
    "ages['customized_age_grp'] = pd.cut(ages['age'] ,[10,20,30,50,100])\n",
    "c = ages[\"customized_age_grp\"].value_counts() # 每個 bin 的資料筆數是一樣的\n",
    "print(c)"
   ]
  }
 ],
 "metadata": {
  "kernelspec": {
   "display_name": "Python 3",
   "language": "python",
   "name": "python3"
  },
  "language_info": {
   "codemirror_mode": {
    "name": "ipython",
    "version": 3
   },
   "file_extension": ".py",
   "mimetype": "text/x-python",
   "name": "python",
   "nbconvert_exporter": "python",
   "pygments_lexer": "ipython3",
   "version": "3.7.3"
  }
 },
 "nbformat": 4,
 "nbformat_minor": 2
}
