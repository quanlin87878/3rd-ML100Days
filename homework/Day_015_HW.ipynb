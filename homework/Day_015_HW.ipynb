{
 "cells": [
  {
   "cell_type": "code",
   "execution_count": null,
   "metadata": {},
   "outputs": [],
   "source": [
    "依照泡沫排序\n",
    "得到的資料為\n",
    "MIN:\n",
    "EXT_SOURCE_3\n",
    "EXT_SOURCE_2\n",
    "EXT_SOURCE_1\n",
    "DAYS_BIRTH\n",
    "DAYS_EMPLOYED_ANOM\n",
    "FLOORSMAX_AVG\n",
    "FLOORSMAX_MEDI\n",
    "FLOORSMAX_MODE\n",
    "AMT_GOODS_PRICE\n",
    "REGION_POPULATION_RELATIVE\n",
    "ELEVATORS_AVG\n",
    "ELEVATORS_MEDI\n",
    "FLOORSMIN_AVG\n",
    "FLOORSMIN_MEDI\n",
    "LIVINGAREA_AVG\n",
    "\n",
    "MAX:\n",
    "FLAG_WORK_PHONE\n",
    "DEF_60_CNT_SOCIAL_CIRCLE\n",
    "DEF_30_CNT_SOCIAL_CIRCLE\n",
    "LIVE_CITY_NOT_WORK_CITY\n",
    "OWN_CAR_AGE\n",
    "DAYS_REGISTRATION\n",
    "FLAG_DOCUMENT_3\n",
    "REG_CITY_NOT_LIVE_CITY\n",
    "FLAG_EMP_PHONE\n",
    "REG_CITY_NOT_WORK_CITY\n",
    "DAYS_ID_PUBLISH\n",
    "DAYS_LAST_PHONE_CHANGE\n",
    "REGION_RATING_CLIENT\n",
    "REGION_RATING_CLIENT_W_CITY\n",
    "DAYS_EMPLOYED"
   ]
  }
 ],
 "metadata": {
  "kernelspec": {
   "display_name": "Python 3",
   "language": "python",
   "name": "python3"
  },
  "language_info": {
   "codemirror_mode": {
    "name": "ipython",
    "version": 3
   },
   "file_extension": ".py",
   "mimetype": "text/x-python",
   "name": "python",
   "nbconvert_exporter": "python",
   "pygments_lexer": "ipython3",
   "version": "3.7.3"
  }
 },
 "nbformat": 4,
 "nbformat_minor": 2
}
